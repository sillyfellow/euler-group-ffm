{
 "cells": [
  {
   "cell_type": "code",
   "execution_count": 17,
   "metadata": {},
   "outputs": [],
   "source": [
    "import math"
   ]
  },
  {
   "cell_type": "code",
   "execution_count": 67,
   "metadata": {},
   "outputs": [
    {
     "name": "stdout",
     "output_type": "stream",
     "text": [
      "[[2, 3, 6], [3, 2, 6]]\n"
     ]
    }
   ],
   "source": [
    "r = 7\n",
    "s = list()\n",
    "for x in range(r+1): \n",
    "    for y in range(r+1):\n",
    "        for z in range(r+1):\n",
    "            if x ** 2 + y ** 2 + z ** 2 == r**2:\n",
    "                if z == 6:\n",
    "                    s.append([x,y,z])\n",
    "s = sorted(s, reverse=True, key=lambda x: x[2])\n",
    "print(s)\n"
   ]
  },
  {
   "cell_type": "code",
   "execution_count": 19,
   "metadata": {},
   "outputs": [],
   "source": [
    "def stations(r):\n",
    "    r1 = r + 1\n",
    "    rSquare = r ** 2 \n",
    "    s = set()\n",
    "    for x in range(-r, r1):\n",
    "        for y in range(-r, r1):\n",
    "            for z in range(-r, r1):\n",
    "                if x ** 2 + y ** 2 + z ** 2 == rSquare:\n",
    "                    s.add((x, y, z))\n",
    "    return s"
   ]
  },
  {
   "cell_type": "code",
   "execution_count": 20,
   "metadata": {},
   "outputs": [
    {
     "data": {
      "text/plain": [
       "{(-7, 0, 0),\n",
       " (-6, -3, -2),\n",
       " (-6, -3, 2),\n",
       " (-6, -2, -3),\n",
       " (-6, -2, 3),\n",
       " (-6, 2, -3),\n",
       " (-6, 2, 3),\n",
       " (-6, 3, -2),\n",
       " (-6, 3, 2),\n",
       " (-3, -6, -2),\n",
       " (-3, -6, 2),\n",
       " (-3, -2, -6),\n",
       " (-3, -2, 6),\n",
       " (-3, 2, -6),\n",
       " (-3, 2, 6),\n",
       " (-3, 6, -2),\n",
       " (-3, 6, 2),\n",
       " (-2, -6, -3),\n",
       " (-2, -6, 3),\n",
       " (-2, -3, -6),\n",
       " (-2, -3, 6),\n",
       " (-2, 3, -6),\n",
       " (-2, 3, 6),\n",
       " (-2, 6, -3),\n",
       " (-2, 6, 3),\n",
       " (0, -7, 0),\n",
       " (0, 0, -7),\n",
       " (0, 0, 7),\n",
       " (0, 7, 0),\n",
       " (2, -6, -3),\n",
       " (2, -6, 3),\n",
       " (2, -3, -6),\n",
       " (2, -3, 6),\n",
       " (2, 3, -6),\n",
       " (2, 3, 6),\n",
       " (2, 6, -3),\n",
       " (2, 6, 3),\n",
       " (3, -6, -2),\n",
       " (3, -6, 2),\n",
       " (3, -2, -6),\n",
       " (3, -2, 6),\n",
       " (3, 2, -6),\n",
       " (3, 2, 6),\n",
       " (3, 6, -2),\n",
       " (3, 6, 2),\n",
       " (6, -3, -2),\n",
       " (6, -3, 2),\n",
       " (6, -2, -3),\n",
       " (6, -2, 3),\n",
       " (6, 2, -3),\n",
       " (6, 2, 3),\n",
       " (6, 3, -2),\n",
       " (6, 3, 2),\n",
       " (7, 0, 0)}"
      ]
     },
     "execution_count": 20,
     "metadata": {},
     "output_type": "execute_result"
    }
   ],
   "source": [
    "stations(7)"
   ]
  },
  {
   "cell_type": "code",
   "execution_count": 272,
   "metadata": {},
   "outputs": [],
   "source": [
    "def nextStations(s1, r):\n",
    "    stations = []\n",
    "\n",
    "    x, y, z = s1\n",
    "    if z - 1 == -r:\n",
    "        return (0, 0, -r)\n",
    "    \n",
    "    for zNext in range(z-1, -r, -1):\n",
    "        chosen = next_station_in_z(x, y, zNext, r)\n",
    "        stations.append(chosen)\n",
    "    \n",
    "    return stations "
   ]
  },
  {
   "cell_type": "code",
   "execution_count": 233,
   "metadata": {},
   "outputs": [],
   "source": [
    "def risk(s1, s2, r):\n",
    "    x1, y1, z1 = s1\n",
    "    x2, y2, z2 = s2\n",
    "    \n",
    "    d = math.sqrt( (x2 - x1) ** 2 + (y2 - y1) ** 2 + (z2 - z1) ** 2)\n",
    "    return (d/ (r * math.pi)) ** 2"
   ]
  },
  {
   "cell_type": "code",
   "execution_count": 234,
   "metadata": {},
   "outputs": [],
   "source": [
    "def real_risk(s1, s2, r):\n",
    "    x1, y1, z1 = s1\n",
    "    x2, y2, z2 = s2\n",
    "        \n",
    "    Δ = math.sqrt((x2-x1)**2+(y2-y1)**2+(z2-z1)**2)\n",
    "    φ = math.asin((Δ/2/r))\n",
    "    d = 2*φ*r\n",
    "\n",
    "    return (d/ (r * math.pi)) ** 2"
   ]
  },
  {
   "cell_type": "code",
   "execution_count": 235,
   "metadata": {},
   "outputs": [],
   "source": [
    "direct  = risk((0, 0, 7), (0, 0, -7), 7)\n",
    "withOneStop = risk((0, 0, 7), (0, 7, 0), 7) + risk((0, 7, 0), (0, 0, -7), 7)\n",
    "\n",
    "r_direct  = real_risk((0, 0, 7), (0, 0, -7), 7)\n",
    "r_withOneStop = real_risk((0, 0, 7), (0, 7, 0), 7) + real_risk((0, 7, 0), (0, 0, -7), 7)"
   ]
  },
  {
   "cell_type": "code",
   "execution_count": 236,
   "metadata": {},
   "outputs": [
    {
     "name": "stdout",
     "output_type": "stream",
     "text": [
      "0.40528473456935116 0.40528473456935105 1.1102230246251565e-16\n",
      "1.0 0.5000000000000002 0.4999999999999998\n"
     ]
    }
   ],
   "source": [
    "print(direct, withOneStop, direct - withOneStop)\n",
    "print(r_direct, r_withOneStop, r_direct - r_withOneStop)"
   ]
  },
  {
   "cell_type": "code",
   "execution_count": 237,
   "metadata": {},
   "outputs": [],
   "source": [
    "def is_station(s, r):\n",
    "    x, y, z = s\n",
    "    def valid(val):\n",
    "        return val <= r and val >= -r\n",
    "    return valid(x) and valid(y) and valid(z) and x ** 2 + y ** 2 + z ** 2 == r**2"
   ]
  },
  {
   "cell_type": "code",
   "execution_count": 306,
   "metadata": {},
   "outputs": [],
   "source": [
    "def next_station_in_z(x, y, z, r):\n",
    "    station = (x, y, z)     \n",
    "    \n",
    "    for incr_x in range(r * 2):\n",
    "        for incr_y in range(incr_x):\n",
    "            potential_candidates = set([ \n",
    "                (x+incr_x, y, z),\n",
    "                (x-incr_x, y, z),\n",
    "                (x, y+incr_y, z),\n",
    "                (x, y-incr_y, z),\n",
    "                (x+incr_x, y+incr_y, z),\n",
    "                (x+incr_x, y-incr_y, z),\n",
    "                (x-incr_x, y+incr_y, z),\n",
    "                (x-incr_x, y-incr_y, z),\n",
    "                \n",
    "                (x+incr_y, y, z),\n",
    "                (x-incr_y, y, z),\n",
    "                (x, y+incr_x, z),\n",
    "                (x, y-incr_x, z),\n",
    "                (x+incr_y, y+incr_x, z),\n",
    "                (x+incr_y, y-incr_x, z),\n",
    "                (x-incr_y, y+incr_x, z),\n",
    "                (x-incr_y, y-incr_x, z),\n",
    "            ])\n",
    "            candidates = list(filter(lambda x: is_station(x, r), potential_candidates))\n",
    "            if candidates:\n",
    "                return min([(risk(station, c, r), c) for c in candidates])[1]\n",
    "    return None"
   ]
  },
  {
   "cell_type": "code",
   "execution_count": 307,
   "metadata": {},
   "outputs": [],
   "source": [
    "def nextStation(s1, r):\n",
    "\n",
    "    best_station = None\n",
    "    min_risk = 2 ** 32\n",
    "    \n",
    "    x, y, z = s1\n",
    "    if z - 1 == -r:\n",
    "        return (0, 0, -r)\n",
    "    \n",
    "    for zNext in range(z-1, -r, -1):\n",
    "        chosen = next_station_in_z(x, y, zNext, r)\n",
    "        if chosen:\n",
    "            new_risk = risk(s1, chosen, r)\n",
    "            if new_risk > min_risk:\n",
    "                return best_station\n",
    "            \n",
    "            best_station = chosen\n",
    "            min_risk = new_risk\n",
    "    \n",
    "    return best_station"
   ]
  },
  {
   "cell_type": "code",
   "execution_count": 308,
   "metadata": {},
   "outputs": [
    {
     "name": "stdout",
     "output_type": "stream",
     "text": [
      "0.19964998750190363\n"
     ]
    }
   ],
   "source": [
    "radius = 7\n",
    "nextStation((0, 0, radius), radius)\n",
    "sumrisk = 0\n",
    "start, end = (0, 0, radius), (0, 0, -radius)\n",
    "while start != end:\n",
    "    # print(start, end)\n",
    "    ns = nextStation(start, radius)\n",
    "    # print(ns)\n",
    "    sumrisk += real_risk(start, ns, radius)\n",
    "    start = ns\n",
    "print(sumrisk)"
   ]
  },
  {
   "cell_type": "code",
   "execution_count": 258,
   "metadata": {},
   "outputs": [],
   "source": [
    "def min_risk(r): \n",
    "    stations = nextStations((0, 0, r), r)\n",
    "    stations = [(0, 0, r)] + list(filter(lambda x: x is not None, stations)) + [(0, 0, -r)] \n",
    "    srisks = []\n",
    "    for skip in range(1, len(stations)-1):\n",
    "        lskip = skip\n",
    "        rskip = len(stations) - skip - 1\n",
    "        stations_ = stations[0:lskip] + stations[lskip+1:rskip] + stations[rskip+1:]\n",
    "\n",
    "        srisk = 0\n",
    "        for i in range(len(stations_) - 1):\n",
    "            s = stations_[i]\n",
    "            snext = stations_[i+1]\n",
    "            rr= real_risk(s, snext, r)\n",
    "            #print(s, snext, rr)\n",
    "            srisk += rr\n",
    "        srisks.append(srisk)\n",
    "    return min(srisks)"
   ]
  },
  {
   "cell_type": "code",
   "execution_count": 244,
   "metadata": {},
   "outputs": [
    {
     "ename": "KeyboardInterrupt",
     "evalue": "",
     "output_type": "error",
     "traceback": [
      "\u001b[0;31m---------------------------------------------------------------------------\u001b[0m",
      "\u001b[0;31mKeyboardInterrupt\u001b[0m                         Traceback (most recent call last)",
      "\u001b[0;32m<ipython-input-244-75eb9fd7fb13>\u001b[0m in \u001b[0;36m<module>\u001b[0;34m\u001b[0m\n\u001b[0;32m----> 1\u001b[0;31m \u001b[0mmin_risk\u001b[0m\u001b[0;34m(\u001b[0m\u001b[0;36m1023\u001b[0m\u001b[0;34m)\u001b[0m\u001b[0;34m\u001b[0m\u001b[0;34m\u001b[0m\u001b[0m\n\u001b[0m",
      "\u001b[0;32m<ipython-input-242-ebf4a315b691>\u001b[0m in \u001b[0;36mmin_risk\u001b[0;34m(r)\u001b[0m\n\u001b[1;32m      1\u001b[0m \u001b[0;32mdef\u001b[0m \u001b[0mmin_risk\u001b[0m\u001b[0;34m(\u001b[0m\u001b[0mr\u001b[0m\u001b[0;34m)\u001b[0m\u001b[0;34m:\u001b[0m\u001b[0;34m\u001b[0m\u001b[0;34m\u001b[0m\u001b[0m\n\u001b[0;32m----> 2\u001b[0;31m     \u001b[0mstations\u001b[0m \u001b[0;34m=\u001b[0m \u001b[0mnextStations\u001b[0m\u001b[0;34m(\u001b[0m\u001b[0;34m(\u001b[0m\u001b[0;36m0\u001b[0m\u001b[0;34m,\u001b[0m \u001b[0;36m0\u001b[0m\u001b[0;34m,\u001b[0m \u001b[0mr\u001b[0m\u001b[0;34m)\u001b[0m\u001b[0;34m,\u001b[0m \u001b[0mr\u001b[0m\u001b[0;34m)\u001b[0m\u001b[0;34m\u001b[0m\u001b[0;34m\u001b[0m\u001b[0m\n\u001b[0m\u001b[1;32m      3\u001b[0m     \u001b[0mstations\u001b[0m \u001b[0;34m=\u001b[0m \u001b[0;34m[\u001b[0m\u001b[0;34m(\u001b[0m\u001b[0;36m0\u001b[0m\u001b[0;34m,\u001b[0m \u001b[0;36m0\u001b[0m\u001b[0;34m,\u001b[0m \u001b[0mr\u001b[0m\u001b[0;34m)\u001b[0m\u001b[0;34m]\u001b[0m \u001b[0;34m+\u001b[0m \u001b[0mlist\u001b[0m\u001b[0;34m(\u001b[0m\u001b[0mfilter\u001b[0m\u001b[0;34m(\u001b[0m\u001b[0;32mlambda\u001b[0m \u001b[0mx\u001b[0m\u001b[0;34m:\u001b[0m \u001b[0mx\u001b[0m \u001b[0;32mis\u001b[0m \u001b[0;32mnot\u001b[0m \u001b[0;32mNone\u001b[0m\u001b[0;34m,\u001b[0m \u001b[0mstations\u001b[0m\u001b[0;34m)\u001b[0m\u001b[0;34m)\u001b[0m \u001b[0;34m+\u001b[0m \u001b[0;34m[\u001b[0m\u001b[0;34m(\u001b[0m\u001b[0;36m0\u001b[0m\u001b[0;34m,\u001b[0m \u001b[0;36m0\u001b[0m\u001b[0;34m,\u001b[0m \u001b[0;34m-\u001b[0m\u001b[0mr\u001b[0m\u001b[0;34m)\u001b[0m\u001b[0;34m]\u001b[0m\u001b[0;34m\u001b[0m\u001b[0;34m\u001b[0m\u001b[0m\n\u001b[1;32m      4\u001b[0m     \u001b[0msrisks\u001b[0m \u001b[0;34m=\u001b[0m \u001b[0;34m[\u001b[0m\u001b[0;34m]\u001b[0m\u001b[0;34m\u001b[0m\u001b[0;34m\u001b[0m\u001b[0m\n\u001b[1;32m      5\u001b[0m     \u001b[0;32mfor\u001b[0m \u001b[0mskip\u001b[0m \u001b[0;32min\u001b[0m \u001b[0mrange\u001b[0m\u001b[0;34m(\u001b[0m\u001b[0;36m1\u001b[0m\u001b[0;34m,\u001b[0m \u001b[0mlen\u001b[0m\u001b[0;34m(\u001b[0m\u001b[0mstations\u001b[0m\u001b[0;34m)\u001b[0m\u001b[0;34m-\u001b[0m\u001b[0;36m1\u001b[0m\u001b[0;34m)\u001b[0m\u001b[0;34m:\u001b[0m\u001b[0;34m\u001b[0m\u001b[0;34m\u001b[0m\u001b[0m\n",
      "\u001b[0;32m<ipython-input-239-d7170a3ba6da>\u001b[0m in \u001b[0;36mnextStations\u001b[0;34m(s1, r)\u001b[0m\n\u001b[1;32m      7\u001b[0m \u001b[0;34m\u001b[0m\u001b[0m\n\u001b[1;32m      8\u001b[0m     \u001b[0;32mfor\u001b[0m \u001b[0mzNext\u001b[0m \u001b[0;32min\u001b[0m \u001b[0mrange\u001b[0m\u001b[0;34m(\u001b[0m\u001b[0mz\u001b[0m\u001b[0;34m-\u001b[0m\u001b[0;36m1\u001b[0m\u001b[0;34m,\u001b[0m \u001b[0;34m-\u001b[0m\u001b[0mr\u001b[0m\u001b[0;34m,\u001b[0m \u001b[0;34m-\u001b[0m\u001b[0;36m1\u001b[0m\u001b[0;34m)\u001b[0m\u001b[0;34m:\u001b[0m\u001b[0;34m\u001b[0m\u001b[0;34m\u001b[0m\u001b[0m\n\u001b[0;32m----> 9\u001b[0;31m         \u001b[0mchosen\u001b[0m \u001b[0;34m=\u001b[0m \u001b[0mnext_station_in_z\u001b[0m\u001b[0;34m(\u001b[0m\u001b[0mx\u001b[0m\u001b[0;34m,\u001b[0m \u001b[0my\u001b[0m\u001b[0;34m,\u001b[0m \u001b[0mzNext\u001b[0m\u001b[0;34m,\u001b[0m \u001b[0mr\u001b[0m\u001b[0;34m)\u001b[0m\u001b[0;34m\u001b[0m\u001b[0;34m\u001b[0m\u001b[0m\n\u001b[0m\u001b[1;32m     10\u001b[0m         \u001b[0mstations\u001b[0m\u001b[0;34m.\u001b[0m\u001b[0mappend\u001b[0m\u001b[0;34m(\u001b[0m\u001b[0mchosen\u001b[0m\u001b[0;34m)\u001b[0m\u001b[0;34m\u001b[0m\u001b[0;34m\u001b[0m\u001b[0m\n\u001b[1;32m     11\u001b[0m \u001b[0;34m\u001b[0m\u001b[0m\n",
      "\u001b[0;32m<ipython-input-238-dedd69a2938b>\u001b[0m in \u001b[0;36mnext_station_in_z\u001b[0;34m(x, y, z, r)\u001b[0m\n\u001b[1;32m     13\u001b[0m                 \u001b[0;34m(\u001b[0m\u001b[0mx\u001b[0m\u001b[0;34m-\u001b[0m\u001b[0mincr_x\u001b[0m\u001b[0;34m,\u001b[0m \u001b[0my\u001b[0m\u001b[0;34m-\u001b[0m\u001b[0mincr_y\u001b[0m\u001b[0;34m,\u001b[0m \u001b[0mz\u001b[0m\u001b[0;34m)\u001b[0m\u001b[0;34m,\u001b[0m\u001b[0;34m\u001b[0m\u001b[0;34m\u001b[0m\u001b[0m\n\u001b[1;32m     14\u001b[0m             ])\n\u001b[0;32m---> 15\u001b[0;31m             \u001b[0mcandidates\u001b[0m \u001b[0;34m=\u001b[0m \u001b[0mlist\u001b[0m\u001b[0;34m(\u001b[0m\u001b[0mfilter\u001b[0m\u001b[0;34m(\u001b[0m\u001b[0;32mlambda\u001b[0m \u001b[0mx\u001b[0m\u001b[0;34m:\u001b[0m \u001b[0mis_station\u001b[0m\u001b[0;34m(\u001b[0m\u001b[0mx\u001b[0m\u001b[0;34m,\u001b[0m \u001b[0mr\u001b[0m\u001b[0;34m)\u001b[0m\u001b[0;34m,\u001b[0m \u001b[0mpotential_candidates\u001b[0m\u001b[0;34m)\u001b[0m\u001b[0;34m)\u001b[0m\u001b[0;34m\u001b[0m\u001b[0;34m\u001b[0m\u001b[0m\n\u001b[0m\u001b[1;32m     16\u001b[0m             \u001b[0;32mif\u001b[0m \u001b[0mcandidates\u001b[0m\u001b[0;34m:\u001b[0m\u001b[0;34m\u001b[0m\u001b[0;34m\u001b[0m\u001b[0m\n\u001b[1;32m     17\u001b[0m                 \u001b[0;32mreturn\u001b[0m \u001b[0mmin\u001b[0m\u001b[0;34m(\u001b[0m\u001b[0;34m[\u001b[0m\u001b[0;34m(\u001b[0m\u001b[0mrisk\u001b[0m\u001b[0;34m(\u001b[0m\u001b[0mstation\u001b[0m\u001b[0;34m,\u001b[0m \u001b[0mc\u001b[0m\u001b[0;34m,\u001b[0m \u001b[0mr\u001b[0m\u001b[0;34m)\u001b[0m\u001b[0;34m,\u001b[0m \u001b[0mc\u001b[0m\u001b[0;34m)\u001b[0m \u001b[0;32mfor\u001b[0m \u001b[0mc\u001b[0m \u001b[0;32min\u001b[0m \u001b[0mcandidates\u001b[0m\u001b[0;34m]\u001b[0m\u001b[0;34m)\u001b[0m\u001b[0;34m[\u001b[0m\u001b[0;36m1\u001b[0m\u001b[0;34m]\u001b[0m\u001b[0;34m\u001b[0m\u001b[0;34m\u001b[0m\u001b[0m\n",
      "\u001b[0;32m<ipython-input-238-dedd69a2938b>\u001b[0m in \u001b[0;36m<lambda>\u001b[0;34m(x)\u001b[0m\n\u001b[1;32m     13\u001b[0m                 \u001b[0;34m(\u001b[0m\u001b[0mx\u001b[0m\u001b[0;34m-\u001b[0m\u001b[0mincr_x\u001b[0m\u001b[0;34m,\u001b[0m \u001b[0my\u001b[0m\u001b[0;34m-\u001b[0m\u001b[0mincr_y\u001b[0m\u001b[0;34m,\u001b[0m \u001b[0mz\u001b[0m\u001b[0;34m)\u001b[0m\u001b[0;34m,\u001b[0m\u001b[0;34m\u001b[0m\u001b[0;34m\u001b[0m\u001b[0m\n\u001b[1;32m     14\u001b[0m             ])\n\u001b[0;32m---> 15\u001b[0;31m             \u001b[0mcandidates\u001b[0m \u001b[0;34m=\u001b[0m \u001b[0mlist\u001b[0m\u001b[0;34m(\u001b[0m\u001b[0mfilter\u001b[0m\u001b[0;34m(\u001b[0m\u001b[0;32mlambda\u001b[0m \u001b[0mx\u001b[0m\u001b[0;34m:\u001b[0m \u001b[0mis_station\u001b[0m\u001b[0;34m(\u001b[0m\u001b[0mx\u001b[0m\u001b[0;34m,\u001b[0m \u001b[0mr\u001b[0m\u001b[0;34m)\u001b[0m\u001b[0;34m,\u001b[0m \u001b[0mpotential_candidates\u001b[0m\u001b[0;34m)\u001b[0m\u001b[0;34m)\u001b[0m\u001b[0;34m\u001b[0m\u001b[0;34m\u001b[0m\u001b[0m\n\u001b[0m\u001b[1;32m     16\u001b[0m             \u001b[0;32mif\u001b[0m \u001b[0mcandidates\u001b[0m\u001b[0;34m:\u001b[0m\u001b[0;34m\u001b[0m\u001b[0;34m\u001b[0m\u001b[0m\n\u001b[1;32m     17\u001b[0m                 \u001b[0;32mreturn\u001b[0m \u001b[0mmin\u001b[0m\u001b[0;34m(\u001b[0m\u001b[0;34m[\u001b[0m\u001b[0;34m(\u001b[0m\u001b[0mrisk\u001b[0m\u001b[0;34m(\u001b[0m\u001b[0mstation\u001b[0m\u001b[0;34m,\u001b[0m \u001b[0mc\u001b[0m\u001b[0;34m,\u001b[0m \u001b[0mr\u001b[0m\u001b[0;34m)\u001b[0m\u001b[0;34m,\u001b[0m \u001b[0mc\u001b[0m\u001b[0;34m)\u001b[0m \u001b[0;32mfor\u001b[0m \u001b[0mc\u001b[0m \u001b[0;32min\u001b[0m \u001b[0mcandidates\u001b[0m\u001b[0;34m]\u001b[0m\u001b[0;34m)\u001b[0m\u001b[0;34m[\u001b[0m\u001b[0;36m1\u001b[0m\u001b[0;34m]\u001b[0m\u001b[0;34m\u001b[0m\u001b[0;34m\u001b[0m\u001b[0m\n",
      "\u001b[0;32m<ipython-input-237-195d0f71a1f2>\u001b[0m in \u001b[0;36mis_station\u001b[0;34m(s, r)\u001b[0m\n\u001b[0;32m----> 1\u001b[0;31m \u001b[0;32mdef\u001b[0m \u001b[0mis_station\u001b[0m\u001b[0;34m(\u001b[0m\u001b[0ms\u001b[0m\u001b[0;34m,\u001b[0m \u001b[0mr\u001b[0m\u001b[0;34m)\u001b[0m\u001b[0;34m:\u001b[0m\u001b[0;34m\u001b[0m\u001b[0;34m\u001b[0m\u001b[0m\n\u001b[0m\u001b[1;32m      2\u001b[0m     \u001b[0mx\u001b[0m\u001b[0;34m,\u001b[0m \u001b[0my\u001b[0m\u001b[0;34m,\u001b[0m \u001b[0mz\u001b[0m \u001b[0;34m=\u001b[0m \u001b[0ms\u001b[0m\u001b[0;34m\u001b[0m\u001b[0;34m\u001b[0m\u001b[0m\n\u001b[1;32m      3\u001b[0m     \u001b[0;32mdef\u001b[0m \u001b[0mvalid\u001b[0m\u001b[0;34m(\u001b[0m\u001b[0mval\u001b[0m\u001b[0;34m)\u001b[0m\u001b[0;34m:\u001b[0m\u001b[0;34m\u001b[0m\u001b[0;34m\u001b[0m\u001b[0m\n\u001b[1;32m      4\u001b[0m         \u001b[0;32mreturn\u001b[0m \u001b[0mval\u001b[0m \u001b[0;34m<=\u001b[0m \u001b[0mr\u001b[0m \u001b[0;32mand\u001b[0m \u001b[0mval\u001b[0m \u001b[0;34m>=\u001b[0m \u001b[0;34m-\u001b[0m\u001b[0mr\u001b[0m\u001b[0;34m\u001b[0m\u001b[0;34m\u001b[0m\u001b[0m\n\u001b[1;32m      5\u001b[0m     \u001b[0;32mreturn\u001b[0m \u001b[0mvalid\u001b[0m\u001b[0;34m(\u001b[0m\u001b[0mx\u001b[0m\u001b[0;34m)\u001b[0m \u001b[0;32mand\u001b[0m \u001b[0mvalid\u001b[0m\u001b[0;34m(\u001b[0m\u001b[0my\u001b[0m\u001b[0;34m)\u001b[0m \u001b[0;32mand\u001b[0m \u001b[0mvalid\u001b[0m\u001b[0;34m(\u001b[0m\u001b[0mz\u001b[0m\u001b[0;34m)\u001b[0m \u001b[0;32mand\u001b[0m \u001b[0mx\u001b[0m \u001b[0;34m**\u001b[0m \u001b[0;36m2\u001b[0m \u001b[0;34m+\u001b[0m \u001b[0my\u001b[0m \u001b[0;34m**\u001b[0m \u001b[0;36m2\u001b[0m \u001b[0;34m+\u001b[0m \u001b[0mz\u001b[0m \u001b[0;34m**\u001b[0m \u001b[0;36m2\u001b[0m \u001b[0;34m==\u001b[0m \u001b[0mr\u001b[0m\u001b[0;34m**\u001b[0m\u001b[0;36m2\u001b[0m\u001b[0;34m\u001b[0m\u001b[0;34m\u001b[0m\u001b[0m\n",
      "\u001b[0;31mKeyboardInterrupt\u001b[0m: "
     ]
    }
   ],
   "source": [
    "min_risk(1023)"
   ]
  },
  {
   "cell_type": "code",
   "execution_count": null,
   "metadata": {},
   "outputs": [],
   "source": []
  }
 ],
 "metadata": {
  "kernelspec": {
   "display_name": "Python 3",
   "language": "python",
   "name": "python3"
  },
  "language_info": {
   "codemirror_mode": {
    "name": "ipython",
    "version": 3
   },
   "file_extension": ".py",
   "mimetype": "text/x-python",
   "name": "python",
   "nbconvert_exporter": "python",
   "pygments_lexer": "ipython3",
   "version": "3.7.5"
  }
 },
 "nbformat": 4,
 "nbformat_minor": 2
}
