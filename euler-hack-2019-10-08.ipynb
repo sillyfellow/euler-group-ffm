{
 "cells": [
  {
   "cell_type": "code",
   "execution_count": 3,
   "metadata": {},
   "outputs": [],
   "source": [
    "import os\n",
    "import sys\n",
    "import re\n",
    "import io\n",
    "from math import *\n",
    "import pathlib as pl\n",
    "import itertools as it\n",
    "import datetime as dt;\n",
    "import time;\n",
    "import random;\n",
    "import operator as op;\n",
    "import functools as ft;\n",
    "import typing as typ;\n"
   ]
  },
  {
   "cell_type": "markdown",
   "metadata": {},
   "source": [
    "# Problem 88 - Product-sum numbers"
   ]
  },
  {
   "cell_type": "code",
   "execution_count": 4,
   "metadata": {},
   "outputs": [],
   "source": [
    "Ints = typ.List[int]\n",
    "\n",
    "def prod(ns: Ints) -> int:\n",
    "    accu = 1\n",
    "    for n in ns:\n",
    "        accu *= n\n",
    "    return accu\n",
    "\n",
    "\n",
    "def psn_delta(ns: Ints) -> int:\n",
    "    p = prod(ns)\n",
    "    s = sum(ns)\n",
    "    return p - s\n",
    "\n",
    "\n",
    "def is_psn(ns: Ints) -> bool:\n",
    "    return psn_delta(ns) == 0\n"
   ]
  },
  {
   "cell_type": "code",
   "execution_count": 5,
   "metadata": {},
   "outputs": [
    {
     "name": "stdout",
     "output_type": "stream",
     "text": [
      "[2, 1, 1, 1] i=0 d= -3  -3 p=  2 s=  5\n",
      "[2, 2, 1, 1] i=1 d= -2  -3 p=  4 s=  6\n",
      "[3, 3, 1, 1] i=1 d=  1  -2 p=  9 s=  8\n",
      "[3, 2, 2, 1] i=2 d=  4  -1 p= 12 s=  8\n",
      "[3, 2, 2, 2] i=3 d= 15  -1 p= 24 s=  9\n"
     ]
    },
    {
     "ename": "AssertionError",
     "evalue": "",
     "output_type": "error",
     "traceback": [
      "\u001b[0;31m---------------------------------------------------------------------------\u001b[0m",
      "\u001b[0;31mAssertionError\u001b[0m                            Traceback (most recent call last)",
      "\u001b[0;32m<ipython-input-5-b5a0a328939f>\u001b[0m in \u001b[0;36m<module>\u001b[0;34m\u001b[0m\n\u001b[1;32m     46\u001b[0m     \u001b[0;32mreturn\u001b[0m \u001b[0msum\u001b[0m\u001b[0;34m(\u001b[0m\u001b[0mns\u001b[0m\u001b[0;34m)\u001b[0m\u001b[0;34m\u001b[0m\u001b[0;34m\u001b[0m\u001b[0m\n\u001b[1;32m     47\u001b[0m \u001b[0;34m\u001b[0m\u001b[0m\n\u001b[0;32m---> 48\u001b[0;31m \u001b[0mprint\u001b[0m\u001b[0;34m(\u001b[0m\u001b[0mmin_psn\u001b[0m\u001b[0;34m(\u001b[0m\u001b[0;36m4\u001b[0m\u001b[0;34m)\u001b[0m\u001b[0;34m)\u001b[0m\u001b[0;34m\u001b[0m\u001b[0;34m\u001b[0m\u001b[0m\n\u001b[0m\u001b[1;32m     49\u001b[0m \u001b[0mprint\u001b[0m\u001b[0;34m(\u001b[0m\u001b[0mmin_psn\u001b[0m\u001b[0;34m(\u001b[0m\u001b[0;36m5\u001b[0m\u001b[0;34m)\u001b[0m\u001b[0;34m)\u001b[0m\u001b[0;34m\u001b[0m\u001b[0;34m\u001b[0m\u001b[0m\n",
      "\u001b[0;32m<ipython-input-5-b5a0a328939f>\u001b[0m in \u001b[0;36mmin_psn\u001b[0;34m(k)\u001b[0m\n\u001b[1;32m     40\u001b[0m \u001b[0;34m\u001b[0m\u001b[0m\n\u001b[1;32m     41\u001b[0m         \u001b[0;32mif\u001b[0m \u001b[0mi\u001b[0m \u001b[0;34m>=\u001b[0m \u001b[0mk\u001b[0m\u001b[0;34m:\u001b[0m\u001b[0;34m\u001b[0m\u001b[0;34m\u001b[0m\u001b[0m\n\u001b[0;32m---> 42\u001b[0;31m             \u001b[0;32massert\u001b[0m \u001b[0;32mFalse\u001b[0m\u001b[0;34m\u001b[0m\u001b[0;34m\u001b[0m\u001b[0m\n\u001b[0m\u001b[1;32m     43\u001b[0m \u001b[0;34m\u001b[0m\u001b[0m\n\u001b[1;32m     44\u001b[0m \u001b[0;34m\u001b[0m\u001b[0m\n",
      "\u001b[0;31mAssertionError\u001b[0m: "
     ]
    }
   ],
   "source": [
    "def incr_at(ns: Ints, i: int) -> Ints:\n",
    "    ns[i] += 1\n",
    "    \n",
    "    max_i = len(ns) - 1\n",
    "    i -= 1\n",
    "    while 0 <= i < max_i and ns[i] < ns[i + 1]:\n",
    "        ns[i] = ns[i + 1]\n",
    "        i -= 1\n",
    "    return ns\n",
    "\n",
    "\n",
    "assert incr_at([1, 3, 1, 1], 1) == [4, 4, 1, 1]\n",
    "\n",
    "\n",
    "def min_psn(k: int) -> int:\n",
    "    ns = [1] * k\n",
    "    i = 0\n",
    "    prev_delta = prod(ns) - sum(ns)\n",
    "    while True:\n",
    "        incr_at(ns, i)\n",
    "        p = prod(ns)\n",
    "        s = sum(ns)\n",
    "        delta = p - s\n",
    "        print(f\"{ns} i={i} d={delta:>3} {prev_delta:>3} p={p:>3} s={s:>3}\")\n",
    "        if p == s:\n",
    "            break\n",
    "        #if delta == prev_delta:\n",
    "        #    ns[i] = max(1, ns[i] - 1)\n",
    "        #    delta = prod(ns) - sum(ns)\n",
    "        #    incr_at(ns, i + 1)\n",
    "        if p > s or delta == prev_delta:\n",
    "            ns[i] = max(1, ns[i] - 1)\n",
    "            delta = prod(ns) - sum(ns)\n",
    "            i += 1\n",
    "            \n",
    "        if delta == 0:\n",
    "            break\n",
    "\n",
    "        prev_delta = delta\n",
    "        \n",
    "        if i >= k:\n",
    "            assert False\n",
    "            \n",
    "            \n",
    "    print(ns)\n",
    "    return sum(ns)\n",
    "        \n",
    "print(min_psn(4))\n",
    "print(min_psn(5))"
   ]
  },
  {
   "cell_type": "code",
   "execution_count": 6,
   "metadata": {},
   "outputs": [
    {
     "name": "stdout",
     "output_type": "stream",
     "text": [
      "[1, 4, 4, 1]\n"
     ]
    },
    {
     "ename": "AssertionError",
     "evalue": "",
     "output_type": "error",
     "traceback": [
      "\u001b[0;31m---------------------------------------------------------------------------\u001b[0m",
      "\u001b[0;31mAssertionError\u001b[0m                            Traceback (most recent call last)",
      "\u001b[0;32m<ipython-input-6-b016d0726c4a>\u001b[0m in \u001b[0;36m<module>\u001b[0;34m\u001b[0m\n\u001b[1;32m     10\u001b[0m     \u001b[0;32mreturn\u001b[0m \u001b[0mns\u001b[0m\u001b[0;34m\u001b[0m\u001b[0;34m\u001b[0m\u001b[0m\n\u001b[1;32m     11\u001b[0m \u001b[0;34m\u001b[0m\u001b[0m\n\u001b[0;32m---> 12\u001b[0;31m \u001b[0;32massert\u001b[0m \u001b[0mincr_at\u001b[0m\u001b[0;34m(\u001b[0m\u001b[0;34m[\u001b[0m\u001b[0;36m1\u001b[0m\u001b[0;34m,\u001b[0m \u001b[0;36m3\u001b[0m\u001b[0;34m,\u001b[0m \u001b[0;36m1\u001b[0m\u001b[0;34m,\u001b[0m \u001b[0;36m1\u001b[0m\u001b[0;34m]\u001b[0m\u001b[0;34m,\u001b[0m \u001b[0;36m1\u001b[0m\u001b[0;34m)\u001b[0m \u001b[0;34m==\u001b[0m \u001b[0;34m[\u001b[0m\u001b[0;36m1\u001b[0m\u001b[0;34m,\u001b[0m \u001b[0;36m4\u001b[0m\u001b[0;34m,\u001b[0m \u001b[0;36m4\u001b[0m\u001b[0;34m,\u001b[0m \u001b[0;36m4\u001b[0m\u001b[0;34m]\u001b[0m\u001b[0;34m\u001b[0m\u001b[0;34m\u001b[0m\u001b[0m\n\u001b[0m",
      "\u001b[0;31mAssertionError\u001b[0m: "
     ]
    }
   ],
   "source": [
    "def incr_at(ns: Ints, i: int) -> Ints:\n",
    "    ns[i] += 1\n",
    "    \n",
    "    max_i = len(ns) - 1\n",
    "    i += 1\n",
    "    while 0 <= i < max_i and ns[i - 1] > ns[i]:\n",
    "        ns[i] = ns[i - 1]\n",
    "        i += 1\n",
    "    print(ns)\n",
    "    return ns\n",
    "\n",
    "assert incr_at([1, 3, 1, 1], 1) == [1, 4, 4, 4]"
   ]
  },
  {
   "cell_type": "code",
   "execution_count": 7,
   "metadata": {},
   "outputs": [],
   "source": [
    "def _min_psn(ns: Ints, i: int) -> int:\n",
    "    # this is not going to work, because it's depth first\n",
    "    assert i >= 0\n",
    "    k = len(ns)\n",
    "    assert ns[i] <= k\n",
    "    try:\n",
    "        ls = _min_psn(list(ns), i - 1)\n",
    "    except AssertionError:\n",
    "        ls = None\n",
    "    \n",
    "    ns[i] += 1\n",
    "    p = prod(ns)\n",
    "    s = sum(ns)\n",
    "    if p == s:\n",
    "        if ls is None:\n",
    "            return s\n",
    "        else:\n",
    "            return min(ls, s)\n",
    "    if ls:\n",
    "        return ls"
   ]
  },
  {
   "cell_type": "code",
   "execution_count": 29,
   "metadata": {},
   "outputs": [],
   "source": [
    "def min_psn(k: int, debug: bool = False) -> int:\n",
    "    ns = [1] * k\n",
    "    \n",
    "    p = prod(ns)\n",
    "    s = sum(ns)\n",
    "    \n",
    "    nexts = [(ns, p, s, 0)]\n",
    "    \n",
    "    while True:\n",
    "        cur_min_psn = None\n",
    "        for ns, p, s, i in nexts:\n",
    "            if debug:\n",
    "                print(f\"{ns} i={i} p={p:>3} s={s:>3}\")\n",
    "            if p != s:\n",
    "                continue\n",
    "            \n",
    "            print(f\"{ns} i={i} p={p:>3} s={s:>3} !!!!!!\")\n",
    "            if cur_min_psn is None:\n",
    "                cur_min_psn = s\n",
    "            else:\n",
    "                cur_min_psn = min(cur_min_psn, s)\n",
    "                    \n",
    "        if cur_min_psn:\n",
    "            return cur_min_psn\n",
    "        \n",
    "        new_nexts = []\n",
    "        for ns, p, s, i in nexts:\n",
    "            assert p <= s\n",
    "            if not 0 <= i < k:\n",
    "                continue\n",
    "                \n",
    "            if i == 0 or i > 0 and ns[i - 1] > ns[i]:\n",
    "                nns = list(ns)\n",
    "                nns[i] += 1\n",
    "                p = prod(nns)\n",
    "                s = sum(nns)\n",
    "                if p <= s:\n",
    "                    new_nexts.append((nns, p, s, i))\n",
    "                    new_nexts.append((nns, p, s, i + 1))\n",
    "        \n",
    "        nexts = new_nexts"
   ]
  },
  {
   "cell_type": "code",
   "execution_count": 30,
   "metadata": {},
   "outputs": [
    {
     "name": "stdout",
     "output_type": "stream",
     "text": [
      "[1, 1] i=0 p=  1 s=  2\n",
      "[2, 1] i=0 p=  2 s=  3\n",
      "[2, 1] i=1 p=  2 s=  3\n",
      "[3, 1] i=0 p=  3 s=  4\n",
      "[3, 1] i=1 p=  3 s=  4\n",
      "[2, 2] i=1 p=  4 s=  4\n",
      "[2, 2] i=1 p=  4 s=  4 !!!!!!\n",
      "[2, 2] i=2 p=  4 s=  4\n",
      "[2, 2] i=2 p=  4 s=  4 !!!!!!\n",
      "[1, 1, 1] i=0 p=  1 s=  3\n",
      "[2, 1, 1] i=0 p=  2 s=  4\n",
      "[2, 1, 1] i=1 p=  2 s=  4\n",
      "[3, 1, 1] i=0 p=  3 s=  5\n",
      "[3, 1, 1] i=1 p=  3 s=  5\n",
      "[2, 2, 1] i=1 p=  4 s=  5\n",
      "[2, 2, 1] i=2 p=  4 s=  5\n",
      "[4, 1, 1] i=0 p=  4 s=  6\n",
      "[4, 1, 1] i=1 p=  4 s=  6\n",
      "[3, 2, 1] i=1 p=  6 s=  6\n",
      "[3, 2, 1] i=1 p=  6 s=  6 !!!!!!\n",
      "[3, 2, 1] i=2 p=  6 s=  6\n",
      "[3, 2, 1] i=2 p=  6 s=  6 !!!!!!\n",
      "[1, 1, 1, 1] i=0 p=  1 s=  4\n",
      "[2, 1, 1, 1] i=0 p=  2 s=  5\n",
      "[2, 1, 1, 1] i=1 p=  2 s=  5\n",
      "[3, 1, 1, 1] i=0 p=  3 s=  6\n",
      "[3, 1, 1, 1] i=1 p=  3 s=  6\n",
      "[2, 2, 1, 1] i=1 p=  4 s=  6\n",
      "[2, 2, 1, 1] i=2 p=  4 s=  6\n",
      "[4, 1, 1, 1] i=0 p=  4 s=  7\n",
      "[4, 1, 1, 1] i=1 p=  4 s=  7\n",
      "[3, 2, 1, 1] i=1 p=  6 s=  7\n",
      "[3, 2, 1, 1] i=2 p=  6 s=  7\n",
      "[5, 1, 1, 1] i=0 p=  5 s=  8\n",
      "[5, 1, 1, 1] i=1 p=  5 s=  8\n",
      "[4, 2, 1, 1] i=1 p=  8 s=  8\n",
      "[4, 2, 1, 1] i=1 p=  8 s=  8 !!!!!!\n",
      "[4, 2, 1, 1] i=2 p=  8 s=  8\n",
      "[4, 2, 1, 1] i=2 p=  8 s=  8 !!!!!!\n",
      "[1, 1, 1, 1, 1] i=0 p=  1 s=  5\n",
      "[2, 1, 1, 1, 1] i=0 p=  2 s=  6\n",
      "[2, 1, 1, 1, 1] i=1 p=  2 s=  6\n",
      "[3, 1, 1, 1, 1] i=0 p=  3 s=  7\n",
      "[3, 1, 1, 1, 1] i=1 p=  3 s=  7\n",
      "[2, 2, 1, 1, 1] i=1 p=  4 s=  7\n",
      "[2, 2, 1, 1, 1] i=2 p=  4 s=  7\n",
      "[4, 1, 1, 1, 1] i=0 p=  4 s=  8\n",
      "[4, 1, 1, 1, 1] i=1 p=  4 s=  8\n",
      "[3, 2, 1, 1, 1] i=1 p=  6 s=  8\n",
      "[3, 2, 1, 1, 1] i=2 p=  6 s=  8\n",
      "[2, 2, 2, 1, 1] i=2 p=  8 s=  8\n",
      "[2, 2, 2, 1, 1] i=2 p=  8 s=  8 !!!!!!\n",
      "[2, 2, 2, 1, 1] i=3 p=  8 s=  8\n",
      "[2, 2, 2, 1, 1] i=3 p=  8 s=  8 !!!!!!\n",
      "[1, 1, 1, 1, 1, 1] i=0 p=  1 s=  6\n",
      "[2, 1, 1, 1, 1, 1] i=0 p=  2 s=  7\n",
      "[2, 1, 1, 1, 1, 1] i=1 p=  2 s=  7\n",
      "[3, 1, 1, 1, 1, 1] i=0 p=  3 s=  8\n",
      "[3, 1, 1, 1, 1, 1] i=1 p=  3 s=  8\n",
      "[2, 2, 1, 1, 1, 1] i=1 p=  4 s=  8\n",
      "[2, 2, 1, 1, 1, 1] i=2 p=  4 s=  8\n",
      "[4, 1, 1, 1, 1, 1] i=0 p=  4 s=  9\n",
      "[4, 1, 1, 1, 1, 1] i=1 p=  4 s=  9\n",
      "[3, 2, 1, 1, 1, 1] i=1 p=  6 s=  9\n",
      "[3, 2, 1, 1, 1, 1] i=2 p=  6 s=  9\n",
      "[2, 2, 2, 1, 1, 1] i=2 p=  8 s=  9\n",
      "[2, 2, 2, 1, 1, 1] i=3 p=  8 s=  9\n",
      "[5, 1, 1, 1, 1, 1] i=0 p=  5 s= 10\n",
      "[5, 1, 1, 1, 1, 1] i=1 p=  5 s= 10\n",
      "[4, 2, 1, 1, 1, 1] i=1 p=  8 s= 10\n",
      "[4, 2, 1, 1, 1, 1] i=2 p=  8 s= 10\n",
      "[3, 3, 1, 1, 1, 1] i=1 p=  9 s= 10\n",
      "[3, 3, 1, 1, 1, 1] i=2 p=  9 s= 10\n",
      "[6, 1, 1, 1, 1, 1] i=0 p=  6 s= 11\n",
      "[6, 1, 1, 1, 1, 1] i=1 p=  6 s= 11\n",
      "[5, 2, 1, 1, 1, 1] i=1 p= 10 s= 11\n",
      "[5, 2, 1, 1, 1, 1] i=2 p= 10 s= 11\n",
      "[7, 1, 1, 1, 1, 1] i=0 p=  7 s= 12\n",
      "[7, 1, 1, 1, 1, 1] i=1 p=  7 s= 12\n",
      "[6, 2, 1, 1, 1, 1] i=1 p= 12 s= 12\n",
      "[6, 2, 1, 1, 1, 1] i=1 p= 12 s= 12 !!!!!!\n",
      "[6, 2, 1, 1, 1, 1] i=2 p= 12 s= 12\n",
      "[6, 2, 1, 1, 1, 1] i=2 p= 12 s= 12 !!!!!!\n"
     ]
    }
   ],
   "source": [
    "for i in range(2, 7):\n",
    "    min_psn(i, debug=True)"
   ]
  },
  {
   "cell_type": "code",
   "execution_count": 14,
   "metadata": {},
   "outputs": [
    {
     "name": "stdout",
     "output_type": "stream",
     "text": [
      "13694\n"
     ]
    }
   ],
   "source": [
    "# print(sum(set(min_psn(k) for k in range(2, 320))))"
   ]
  },
  {
   "cell_type": "code",
   "execution_count": null,
   "metadata": {},
   "outputs": [],
   "source": []
  }
 ],
 "metadata": {
  "kernelspec": {
   "display_name": "Python 3",
   "language": "python",
   "name": "python3"
  },
  "language_info": {
   "codemirror_mode": {
    "name": "ipython",
    "version": 3
   },
   "file_extension": ".py",
   "mimetype": "text/x-python",
   "name": "python",
   "nbconvert_exporter": "python",
   "pygments_lexer": "ipython3",
   "version": "3.7.1"
  }
 },
 "nbformat": 4,
 "nbformat_minor": 2
}
